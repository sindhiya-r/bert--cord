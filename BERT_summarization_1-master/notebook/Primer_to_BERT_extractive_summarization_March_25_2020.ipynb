{
  "nbformat": 4,
  "nbformat_minor": 0,
  "metadata": {
    "colab": {
      "name": "Primer to BERT extractive summarization March 25 2020.ipynb",
      "provenance": [],
      "mount_file_id": "1jwJyJxDaAuLduDVmeDWiG7tKtOxcARon",
      "authorship_tag": "ABX9TyM0haplNl4jYRBzd/voqGAR",
      "include_colab_link": true
    },
    "kernelspec": {
      "name": "python3",
      "display_name": "Python 3"
    },
    "widgets": {
      "application/vnd.jupyter.widget-state+json": {
        "a6de2e872369440ebe1f5130cf50016c": {
          "model_module": "@jupyter-widgets/controls",
          "model_name": "HBoxModel",
          "state": {
            "_view_name": "HBoxView",
            "_dom_classes": [],
            "_model_name": "HBoxModel",
            "_view_module": "@jupyter-widgets/controls",
            "_model_module_version": "1.5.0",
            "_view_count": null,
            "_view_module_version": "1.5.0",
            "box_style": "",
            "layout": "IPY_MODEL_c4c5f9e984254c39a14ee2ac310b821d",
            "_model_module": "@jupyter-widgets/controls",
            "children": [
              "IPY_MODEL_7f561b4af6044174bc2d82737f48eef9",
              "IPY_MODEL_d683d0425c614a22abb9f3a5c48f22a2"
            ]
          }
        },
        "c4c5f9e984254c39a14ee2ac310b821d": {
          "model_module": "@jupyter-widgets/base",
          "model_name": "LayoutModel",
          "state": {
            "_view_name": "LayoutView",
            "grid_template_rows": null,
            "right": null,
            "justify_content": null,
            "_view_module": "@jupyter-widgets/base",
            "overflow": null,
            "_model_module_version": "1.2.0",
            "_view_count": null,
            "flex_flow": null,
            "width": null,
            "min_width": null,
            "border": null,
            "align_items": null,
            "bottom": null,
            "_model_module": "@jupyter-widgets/base",
            "top": null,
            "grid_column": null,
            "overflow_y": null,
            "overflow_x": null,
            "grid_auto_flow": null,
            "grid_area": null,
            "grid_template_columns": null,
            "flex": null,
            "_model_name": "LayoutModel",
            "justify_items": null,
            "grid_row": null,
            "max_height": null,
            "align_content": null,
            "visibility": null,
            "align_self": null,
            "height": null,
            "min_height": null,
            "padding": null,
            "grid_auto_rows": null,
            "grid_gap": null,
            "max_width": null,
            "order": null,
            "_view_module_version": "1.2.0",
            "grid_template_areas": null,
            "object_position": null,
            "object_fit": null,
            "grid_auto_columns": null,
            "margin": null,
            "display": null,
            "left": null
          }
        },
        "7f561b4af6044174bc2d82737f48eef9": {
          "model_module": "@jupyter-widgets/controls",
          "model_name": "IntProgressModel",
          "state": {
            "_view_name": "ProgressView",
            "style": "IPY_MODEL_7c1700bdda4d4a9aaa4722b75504bf0d",
            "_dom_classes": [],
            "description": "Downloading: 100%",
            "_model_name": "IntProgressModel",
            "bar_style": "success",
            "max": 231508,
            "_view_module": "@jupyter-widgets/controls",
            "_model_module_version": "1.5.0",
            "value": 231508,
            "_view_count": null,
            "_view_module_version": "1.5.0",
            "orientation": "horizontal",
            "min": 0,
            "description_tooltip": null,
            "_model_module": "@jupyter-widgets/controls",
            "layout": "IPY_MODEL_f41fe2516bd84b698457725d582ca026"
          }
        },
        "d683d0425c614a22abb9f3a5c48f22a2": {
          "model_module": "@jupyter-widgets/controls",
          "model_name": "HTMLModel",
          "state": {
            "_view_name": "HTMLView",
            "style": "IPY_MODEL_79030bf413bf4a2f881e51df653f22d4",
            "_dom_classes": [],
            "description": "",
            "_model_name": "HTMLModel",
            "placeholder": "​",
            "_view_module": "@jupyter-widgets/controls",
            "_model_module_version": "1.5.0",
            "value": " 232k/232k [51:43&lt;00:00, 74.6B/s]",
            "_view_count": null,
            "_view_module_version": "1.5.0",
            "description_tooltip": null,
            "_model_module": "@jupyter-widgets/controls",
            "layout": "IPY_MODEL_0386c9c4bdde41ab9018f7c513199026"
          }
        },
        "7c1700bdda4d4a9aaa4722b75504bf0d": {
          "model_module": "@jupyter-widgets/controls",
          "model_name": "ProgressStyleModel",
          "state": {
            "_view_name": "StyleView",
            "_model_name": "ProgressStyleModel",
            "description_width": "initial",
            "_view_module": "@jupyter-widgets/base",
            "_model_module_version": "1.5.0",
            "_view_count": null,
            "_view_module_version": "1.2.0",
            "bar_color": null,
            "_model_module": "@jupyter-widgets/controls"
          }
        },
        "f41fe2516bd84b698457725d582ca026": {
          "model_module": "@jupyter-widgets/base",
          "model_name": "LayoutModel",
          "state": {
            "_view_name": "LayoutView",
            "grid_template_rows": null,
            "right": null,
            "justify_content": null,
            "_view_module": "@jupyter-widgets/base",
            "overflow": null,
            "_model_module_version": "1.2.0",
            "_view_count": null,
            "flex_flow": null,
            "width": null,
            "min_width": null,
            "border": null,
            "align_items": null,
            "bottom": null,
            "_model_module": "@jupyter-widgets/base",
            "top": null,
            "grid_column": null,
            "overflow_y": null,
            "overflow_x": null,
            "grid_auto_flow": null,
            "grid_area": null,
            "grid_template_columns": null,
            "flex": null,
            "_model_name": "LayoutModel",
            "justify_items": null,
            "grid_row": null,
            "max_height": null,
            "align_content": null,
            "visibility": null,
            "align_self": null,
            "height": null,
            "min_height": null,
            "padding": null,
            "grid_auto_rows": null,
            "grid_gap": null,
            "max_width": null,
            "order": null,
            "_view_module_version": "1.2.0",
            "grid_template_areas": null,
            "object_position": null,
            "object_fit": null,
            "grid_auto_columns": null,
            "margin": null,
            "display": null,
            "left": null
          }
        },
        "79030bf413bf4a2f881e51df653f22d4": {
          "model_module": "@jupyter-widgets/controls",
          "model_name": "DescriptionStyleModel",
          "state": {
            "_view_name": "StyleView",
            "_model_name": "DescriptionStyleModel",
            "description_width": "",
            "_view_module": "@jupyter-widgets/base",
            "_model_module_version": "1.5.0",
            "_view_count": null,
            "_view_module_version": "1.2.0",
            "_model_module": "@jupyter-widgets/controls"
          }
        },
        "0386c9c4bdde41ab9018f7c513199026": {
          "model_module": "@jupyter-widgets/base",
          "model_name": "LayoutModel",
          "state": {
            "_view_name": "LayoutView",
            "grid_template_rows": null,
            "right": null,
            "justify_content": null,
            "_view_module": "@jupyter-widgets/base",
            "overflow": null,
            "_model_module_version": "1.2.0",
            "_view_count": null,
            "flex_flow": null,
            "width": null,
            "min_width": null,
            "border": null,
            "align_items": null,
            "bottom": null,
            "_model_module": "@jupyter-widgets/base",
            "top": null,
            "grid_column": null,
            "overflow_y": null,
            "overflow_x": null,
            "grid_auto_flow": null,
            "grid_area": null,
            "grid_template_columns": null,
            "flex": null,
            "_model_name": "LayoutModel",
            "justify_items": null,
            "grid_row": null,
            "max_height": null,
            "align_content": null,
            "visibility": null,
            "align_self": null,
            "height": null,
            "min_height": null,
            "padding": null,
            "grid_auto_rows": null,
            "grid_gap": null,
            "max_width": null,
            "order": null,
            "_view_module_version": "1.2.0",
            "grid_template_areas": null,
            "object_position": null,
            "object_fit": null,
            "grid_auto_columns": null,
            "margin": null,
            "display": null,
            "left": null
          }
        },
        "38ad6d39c18c4127a523b52223675823": {
          "model_module": "@jupyter-widgets/controls",
          "model_name": "HBoxModel",
          "state": {
            "_view_name": "HBoxView",
            "_dom_classes": [],
            "_model_name": "HBoxModel",
            "_view_module": "@jupyter-widgets/controls",
            "_model_module_version": "1.5.0",
            "_view_count": null,
            "_view_module_version": "1.5.0",
            "box_style": "",
            "layout": "IPY_MODEL_69b2368f1ace44fca7fb7ef103d69551",
            "_model_module": "@jupyter-widgets/controls",
            "children": [
              "IPY_MODEL_f1b97accef7540e6b9c464ae3a612196",
              "IPY_MODEL_7a780ae609ed4e489b1e83b44358a041"
            ]
          }
        },
        "69b2368f1ace44fca7fb7ef103d69551": {
          "model_module": "@jupyter-widgets/base",
          "model_name": "LayoutModel",
          "state": {
            "_view_name": "LayoutView",
            "grid_template_rows": null,
            "right": null,
            "justify_content": null,
            "_view_module": "@jupyter-widgets/base",
            "overflow": null,
            "_model_module_version": "1.2.0",
            "_view_count": null,
            "flex_flow": null,
            "width": null,
            "min_width": null,
            "border": null,
            "align_items": null,
            "bottom": null,
            "_model_module": "@jupyter-widgets/base",
            "top": null,
            "grid_column": null,
            "overflow_y": null,
            "overflow_x": null,
            "grid_auto_flow": null,
            "grid_area": null,
            "grid_template_columns": null,
            "flex": null,
            "_model_name": "LayoutModel",
            "justify_items": null,
            "grid_row": null,
            "max_height": null,
            "align_content": null,
            "visibility": null,
            "align_self": null,
            "height": null,
            "min_height": null,
            "padding": null,
            "grid_auto_rows": null,
            "grid_gap": null,
            "max_width": null,
            "order": null,
            "_view_module_version": "1.2.0",
            "grid_template_areas": null,
            "object_position": null,
            "object_fit": null,
            "grid_auto_columns": null,
            "margin": null,
            "display": null,
            "left": null
          }
        },
        "f1b97accef7540e6b9c464ae3a612196": {
          "model_module": "@jupyter-widgets/controls",
          "model_name": "IntProgressModel",
          "state": {
            "_view_name": "ProgressView",
            "style": "IPY_MODEL_d82ba37db2ce47c7b5343b515b42c13a",
            "_dom_classes": [],
            "description": "Downloading: 100%",
            "_model_name": "IntProgressModel",
            "bar_style": "success",
            "max": 546,
            "_view_module": "@jupyter-widgets/controls",
            "_model_module_version": "1.5.0",
            "value": 546,
            "_view_count": null,
            "_view_module_version": "1.5.0",
            "orientation": "horizontal",
            "min": 0,
            "description_tooltip": null,
            "_model_module": "@jupyter-widgets/controls",
            "layout": "IPY_MODEL_92fd89b5578247d6a0626f3591d8fe64"
          }
        },
        "7a780ae609ed4e489b1e83b44358a041": {
          "model_module": "@jupyter-widgets/controls",
          "model_name": "HTMLModel",
          "state": {
            "_view_name": "HTMLView",
            "style": "IPY_MODEL_130c4a9362de4d719ffb5fc95289440d",
            "_dom_classes": [],
            "description": "",
            "_model_name": "HTMLModel",
            "placeholder": "​",
            "_view_module": "@jupyter-widgets/controls",
            "_model_module_version": "1.5.0",
            "value": " 546/546 [00:04&lt;00:00, 119B/s]",
            "_view_count": null,
            "_view_module_version": "1.5.0",
            "description_tooltip": null,
            "_model_module": "@jupyter-widgets/controls",
            "layout": "IPY_MODEL_cb8ff1734e0746e899f106870a4af26a"
          }
        },
        "d82ba37db2ce47c7b5343b515b42c13a": {
          "model_module": "@jupyter-widgets/controls",
          "model_name": "ProgressStyleModel",
          "state": {
            "_view_name": "StyleView",
            "_model_name": "ProgressStyleModel",
            "description_width": "initial",
            "_view_module": "@jupyter-widgets/base",
            "_model_module_version": "1.5.0",
            "_view_count": null,
            "_view_module_version": "1.2.0",
            "bar_color": null,
            "_model_module": "@jupyter-widgets/controls"
          }
        },
        "92fd89b5578247d6a0626f3591d8fe64": {
          "model_module": "@jupyter-widgets/base",
          "model_name": "LayoutModel",
          "state": {
            "_view_name": "LayoutView",
            "grid_template_rows": null,
            "right": null,
            "justify_content": null,
            "_view_module": "@jupyter-widgets/base",
            "overflow": null,
            "_model_module_version": "1.2.0",
            "_view_count": null,
            "flex_flow": null,
            "width": null,
            "min_width": null,
            "border": null,
            "align_items": null,
            "bottom": null,
            "_model_module": "@jupyter-widgets/base",
            "top": null,
            "grid_column": null,
            "overflow_y": null,
            "overflow_x": null,
            "grid_auto_flow": null,
            "grid_area": null,
            "grid_template_columns": null,
            "flex": null,
            "_model_name": "LayoutModel",
            "justify_items": null,
            "grid_row": null,
            "max_height": null,
            "align_content": null,
            "visibility": null,
            "align_self": null,
            "height": null,
            "min_height": null,
            "padding": null,
            "grid_auto_rows": null,
            "grid_gap": null,
            "max_width": null,
            "order": null,
            "_view_module_version": "1.2.0",
            "grid_template_areas": null,
            "object_position": null,
            "object_fit": null,
            "grid_auto_columns": null,
            "margin": null,
            "display": null,
            "left": null
          }
        },
        "130c4a9362de4d719ffb5fc95289440d": {
          "model_module": "@jupyter-widgets/controls",
          "model_name": "DescriptionStyleModel",
          "state": {
            "_view_name": "StyleView",
            "_model_name": "DescriptionStyleModel",
            "description_width": "",
            "_view_module": "@jupyter-widgets/base",
            "_model_module_version": "1.5.0",
            "_view_count": null,
            "_view_module_version": "1.2.0",
            "_model_module": "@jupyter-widgets/controls"
          }
        },
        "cb8ff1734e0746e899f106870a4af26a": {
          "model_module": "@jupyter-widgets/base",
          "model_name": "LayoutModel",
          "state": {
            "_view_name": "LayoutView",
            "grid_template_rows": null,
            "right": null,
            "justify_content": null,
            "_view_module": "@jupyter-widgets/base",
            "overflow": null,
            "_model_module_version": "1.2.0",
            "_view_count": null,
            "flex_flow": null,
            "width": null,
            "min_width": null,
            "border": null,
            "align_items": null,
            "bottom": null,
            "_model_module": "@jupyter-widgets/base",
            "top": null,
            "grid_column": null,
            "overflow_y": null,
            "overflow_x": null,
            "grid_auto_flow": null,
            "grid_area": null,
            "grid_template_columns": null,
            "flex": null,
            "_model_name": "LayoutModel",
            "justify_items": null,
            "grid_row": null,
            "max_height": null,
            "align_content": null,
            "visibility": null,
            "align_self": null,
            "height": null,
            "min_height": null,
            "padding": null,
            "grid_auto_rows": null,
            "grid_gap": null,
            "max_width": null,
            "order": null,
            "_view_module_version": "1.2.0",
            "grid_template_areas": null,
            "object_position": null,
            "object_fit": null,
            "grid_auto_columns": null,
            "margin": null,
            "display": null,
            "left": null
          }
        },
        "4c6d4c8894ce432db1ca8f2043a37b31": {
          "model_module": "@jupyter-widgets/controls",
          "model_name": "HBoxModel",
          "state": {
            "_view_name": "HBoxView",
            "_dom_classes": [],
            "_model_name": "HBoxModel",
            "_view_module": "@jupyter-widgets/controls",
            "_model_module_version": "1.5.0",
            "_view_count": null,
            "_view_module_version": "1.5.0",
            "box_style": "",
            "layout": "IPY_MODEL_f85d4a77e70047f7843a04a878c2e138",
            "_model_module": "@jupyter-widgets/controls",
            "children": [
              "IPY_MODEL_ef2a5596607a4d468daa138618fade62",
              "IPY_MODEL_6962514aa37c407c84622aac819bea4e"
            ]
          }
        },
        "f85d4a77e70047f7843a04a878c2e138": {
          "model_module": "@jupyter-widgets/base",
          "model_name": "LayoutModel",
          "state": {
            "_view_name": "LayoutView",
            "grid_template_rows": null,
            "right": null,
            "justify_content": null,
            "_view_module": "@jupyter-widgets/base",
            "overflow": null,
            "_model_module_version": "1.2.0",
            "_view_count": null,
            "flex_flow": null,
            "width": null,
            "min_width": null,
            "border": null,
            "align_items": null,
            "bottom": null,
            "_model_module": "@jupyter-widgets/base",
            "top": null,
            "grid_column": null,
            "overflow_y": null,
            "overflow_x": null,
            "grid_auto_flow": null,
            "grid_area": null,
            "grid_template_columns": null,
            "flex": null,
            "_model_name": "LayoutModel",
            "justify_items": null,
            "grid_row": null,
            "max_height": null,
            "align_content": null,
            "visibility": null,
            "align_self": null,
            "height": null,
            "min_height": null,
            "padding": null,
            "grid_auto_rows": null,
            "grid_gap": null,
            "max_width": null,
            "order": null,
            "_view_module_version": "1.2.0",
            "grid_template_areas": null,
            "object_position": null,
            "object_fit": null,
            "grid_auto_columns": null,
            "margin": null,
            "display": null,
            "left": null
          }
        },
        "ef2a5596607a4d468daa138618fade62": {
          "model_module": "@jupyter-widgets/controls",
          "model_name": "IntProgressModel",
          "state": {
            "_view_name": "ProgressView",
            "style": "IPY_MODEL_bde72e5fbd34469c82a98f2776b76b0f",
            "_dom_classes": [],
            "description": "Downloading: 100%",
            "_model_name": "IntProgressModel",
            "bar_style": "success",
            "max": 267967963,
            "_view_module": "@jupyter-widgets/controls",
            "_model_module_version": "1.5.0",
            "value": 267967963,
            "_view_count": null,
            "_view_module_version": "1.5.0",
            "orientation": "horizontal",
            "min": 0,
            "description_tooltip": null,
            "_model_module": "@jupyter-widgets/controls",
            "layout": "IPY_MODEL_c2414869918d43da943c58f7315cfb3e"
          }
        },
        "6962514aa37c407c84622aac819bea4e": {
          "model_module": "@jupyter-widgets/controls",
          "model_name": "HTMLModel",
          "state": {
            "_view_name": "HTMLView",
            "style": "IPY_MODEL_6508aff3a2e24cf2b9b1bb9d0eb9a5ce",
            "_dom_classes": [],
            "description": "",
            "_model_name": "HTMLModel",
            "placeholder": "​",
            "_view_module": "@jupyter-widgets/controls",
            "_model_module_version": "1.5.0",
            "value": " 268M/268M [00:04&lt;00:00, 62.8MB/s]",
            "_view_count": null,
            "_view_module_version": "1.5.0",
            "description_tooltip": null,
            "_model_module": "@jupyter-widgets/controls",
            "layout": "IPY_MODEL_1bf2bf59828e44a8afd13ee1ca11f52b"
          }
        },
        "bde72e5fbd34469c82a98f2776b76b0f": {
          "model_module": "@jupyter-widgets/controls",
          "model_name": "ProgressStyleModel",
          "state": {
            "_view_name": "StyleView",
            "_model_name": "ProgressStyleModel",
            "description_width": "initial",
            "_view_module": "@jupyter-widgets/base",
            "_model_module_version": "1.5.0",
            "_view_count": null,
            "_view_module_version": "1.2.0",
            "bar_color": null,
            "_model_module": "@jupyter-widgets/controls"
          }
        },
        "c2414869918d43da943c58f7315cfb3e": {
          "model_module": "@jupyter-widgets/base",
          "model_name": "LayoutModel",
          "state": {
            "_view_name": "LayoutView",
            "grid_template_rows": null,
            "right": null,
            "justify_content": null,
            "_view_module": "@jupyter-widgets/base",
            "overflow": null,
            "_model_module_version": "1.2.0",
            "_view_count": null,
            "flex_flow": null,
            "width": null,
            "min_width": null,
            "border": null,
            "align_items": null,
            "bottom": null,
            "_model_module": "@jupyter-widgets/base",
            "top": null,
            "grid_column": null,
            "overflow_y": null,
            "overflow_x": null,
            "grid_auto_flow": null,
            "grid_area": null,
            "grid_template_columns": null,
            "flex": null,
            "_model_name": "LayoutModel",
            "justify_items": null,
            "grid_row": null,
            "max_height": null,
            "align_content": null,
            "visibility": null,
            "align_self": null,
            "height": null,
            "min_height": null,
            "padding": null,
            "grid_auto_rows": null,
            "grid_gap": null,
            "max_width": null,
            "order": null,
            "_view_module_version": "1.2.0",
            "grid_template_areas": null,
            "object_position": null,
            "object_fit": null,
            "grid_auto_columns": null,
            "margin": null,
            "display": null,
            "left": null
          }
        },
        "6508aff3a2e24cf2b9b1bb9d0eb9a5ce": {
          "model_module": "@jupyter-widgets/controls",
          "model_name": "DescriptionStyleModel",
          "state": {
            "_view_name": "StyleView",
            "_model_name": "DescriptionStyleModel",
            "description_width": "",
            "_view_module": "@jupyter-widgets/base",
            "_model_module_version": "1.5.0",
            "_view_count": null,
            "_view_module_version": "1.2.0",
            "_model_module": "@jupyter-widgets/controls"
          }
        },
        "1bf2bf59828e44a8afd13ee1ca11f52b": {
          "model_module": "@jupyter-widgets/base",
          "model_name": "LayoutModel",
          "state": {
            "_view_name": "LayoutView",
            "grid_template_rows": null,
            "right": null,
            "justify_content": null,
            "_view_module": "@jupyter-widgets/base",
            "overflow": null,
            "_model_module_version": "1.2.0",
            "_view_count": null,
            "flex_flow": null,
            "width": null,
            "min_width": null,
            "border": null,
            "align_items": null,
            "bottom": null,
            "_model_module": "@jupyter-widgets/base",
            "top": null,
            "grid_column": null,
            "overflow_y": null,
            "overflow_x": null,
            "grid_auto_flow": null,
            "grid_area": null,
            "grid_template_columns": null,
            "flex": null,
            "_model_name": "LayoutModel",
            "justify_items": null,
            "grid_row": null,
            "max_height": null,
            "align_content": null,
            "visibility": null,
            "align_self": null,
            "height": null,
            "min_height": null,
            "padding": null,
            "grid_auto_rows": null,
            "grid_gap": null,
            "max_width": null,
            "order": null,
            "_view_module_version": "1.2.0",
            "grid_template_areas": null,
            "object_position": null,
            "object_fit": null,
            "grid_auto_columns": null,
            "margin": null,
            "display": null,
            "left": null
          }
        }
      }
    }
  },
  "cells": [
    {
      "cell_type": "markdown",
      "metadata": {
        "id": "view-in-github",
        "colab_type": "text"
      },
      "source": [
        "<a href=\"https://colab.research.google.com/github/VincentK1991/BERT_summarization_1/blob/master/notebook/Primer_to_BERT_extractive_summarization_March_25_2020.ipynb\" target=\"_parent\"><img src=\"https://colab.research.google.com/assets/colab-badge.svg\" alt=\"Open In Colab\"/></a>"
      ]
    },
    {
      "cell_type": "markdown",
      "metadata": {
        "id": "VWQGroR49Wg6",
        "colab_type": "text"
      },
      "source": [
        "# 1. Introduction\n",
        "\n",
        "This notebook aims at first time users of BERT. We will use pre-trained BERT model for extractive summarization purposes. Roughly speaking, we are using pre-trained BERT as sentence embedding tool. Subsequently we use traditional ML tool, namely nearest-neighbors, k-means clustering, and dimensionality reduction to retrieve and visualize semantic clustering encoded in the text.\n",
        "\n",
        "Now let me give a paragraph summary of BERT. BERT is a NLP encoder model developed by Google [see reference here](https://arxiv.org/abs/1810.04805). The model achieved tremenouse success in many bench-mark tests, such as translation, Q&A, and sentence classification, around 2018-2019, and is considered by many to be the-state-of-the-art performance in the field. This helps bring forth a new and exciting era for NLP. \n",
        "\n",
        "The innovation behind BERT's success are a combination of a few ingenious things.\n",
        "\n",
        "\n",
        "1. **bi-directional encoding**\n",
        "\n",
        "The training of BERT read in entire sequences of token as once. So information on the left side (i.e. beginning of phrase/sentence/paragraph) and on the right side provide context for each others (see below.) This is in contradistinction to directional encoder, where information on the end side of the text is not accessible to the front of the text.\n",
        "\n",
        "![alt text](https://cdn.analyticsvidhya.com/wp-content/uploads/2019/09/bert-vs-openai-.jpg)\n",
        "\n",
        "\n",
        "2. **Masked Language Model**\n",
        "\n",
        "During the training, 15% of the words are masked out.The model is trained to predict the masked out words using the surrounding context (i.e. the unmasked words). See below where the word W4 is masked out, and the model is trained to retrieved the masked out word back. This kind of training is called self-supervised learning, meaning the labels are extracted directly from the dataset. In this way, the model \"learns\" the semantic of words by contextual information.\n",
        "\n",
        "![alt text](https://miro.medium.com/max/1205/0*ViwaI3Vvbnd-CJSQ.png)\n",
        "\n",
        "\n",
        "3. **Next Sentence Prediction**\n",
        "\n",
        "The training of BERT model also incorporate sentence level information. The model gets a pair of sentences as input and learn to predict if the second sentence is the pair of the other sentence in the original document.\n",
        "\n",
        "This task is done using a special token denoting the start and end of sentence. There are 3 kinds of embedding tokens used for training.\n",
        "\n",
        "- special token embedding: [CLS] and [SEP] for start and end of sentence\n",
        "-  paired sentence embedding: denoting sentence A and sentence B\n",
        "- Positional embedding: denoting position in sequences.\n",
        "\n",
        "![alt text](https://miro.medium.com/max/1614/0*m_kXt3uqZH9e7H4w.png)\n",
        "\n",
        "We will be using the [CLS] trick in our extractive summarization later. So stay tune!\n",
        "\n",
        "So in the end of the training, what do we get?\n",
        "\n",
        "We get an encoder model where the weights capture the contextual information of language both in word level and sentence level. The idea is that this language model serves as a base model and specific tasks can be built on top of this."
      ]
    },
    {
      "cell_type": "markdown",
      "metadata": {
        "id": "-oGVXWWm9WtG",
        "colab_type": "text"
      },
      "source": [
        "# 2. Packages\n",
        "\n",
        "We will be using Huggingface transformers library. The version we use is pytorch-based. This is a pretty nice and well-documented NLP models, including BERT and GPT-2.\n",
        "\n",
        "For this pre-trained work, we won't be doing fine-tuning. So GPU is probably not necessary."
      ]
    },
    {
      "cell_type": "markdown",
      "metadata": {
        "id": "biKCFW6WS396",
        "colab_type": "text"
      },
      "source": [
        "## 2.1 packages"
      ]
    },
    {
      "cell_type": "code",
      "metadata": {
        "id": "nVLI5G2zMXyV",
        "colab_type": "code",
        "colab": {
          "base_uri": "https://localhost:8080/",
          "height": 656
        },
        "outputId": "0e8a23c3-7d7b-4131-b1a7-0641fe4e450b"
      },
      "source": [
        "!pip install transformers # insall the huggingface library"
      ],
      "execution_count": null,
      "outputs": [
        {
          "output_type": "stream",
          "text": [
            "Collecting transformers\n",
            "\u001b[?25l  Downloading https://files.pythonhosted.org/packages/4c/a0/32e3a4501ef480f7ea01aac329a716132f32f7911ef1c2fac228acc57ca7/transformers-2.6.0-py3-none-any.whl (540kB)\n",
            "\u001b[K     |████████████████████████████████| 542kB 2.0MB/s \n",
            "\u001b[?25hRequirement already satisfied: regex!=2019.12.17 in /usr/local/lib/python3.6/dist-packages (from transformers) (2019.12.20)\n",
            "Requirement already satisfied: boto3 in /usr/local/lib/python3.6/dist-packages (from transformers) (1.12.26)\n",
            "Requirement already satisfied: requests in /usr/local/lib/python3.6/dist-packages (from transformers) (2.21.0)\n",
            "Requirement already satisfied: numpy in /usr/local/lib/python3.6/dist-packages (from transformers) (1.18.2)\n",
            "Requirement already satisfied: tqdm>=4.27 in /usr/local/lib/python3.6/dist-packages (from transformers) (4.38.0)\n",
            "Collecting sacremoses\n",
            "\u001b[?25l  Downloading https://files.pythonhosted.org/packages/a6/b4/7a41d630547a4afd58143597d5a49e07bfd4c42914d8335b2a5657efc14b/sacremoses-0.0.38.tar.gz (860kB)\n",
            "\u001b[K     |████████████████████████████████| 870kB 9.3MB/s \n",
            "\u001b[?25hCollecting tokenizers==0.5.2\n",
            "\u001b[?25l  Downloading https://files.pythonhosted.org/packages/d1/3f/73c881ea4723e43c1e9acf317cf407fab3a278daab3a69c98dcac511c04f/tokenizers-0.5.2-cp36-cp36m-manylinux1_x86_64.whl (3.7MB)\n",
            "\u001b[K     |████████████████████████████████| 3.7MB 10.1MB/s \n",
            "\u001b[?25hCollecting sentencepiece\n",
            "\u001b[?25l  Downloading https://files.pythonhosted.org/packages/74/f4/2d5214cbf13d06e7cb2c20d84115ca25b53ea76fa1f0ade0e3c9749de214/sentencepiece-0.1.85-cp36-cp36m-manylinux1_x86_64.whl (1.0MB)\n",
            "\u001b[K     |████████████████████████████████| 1.0MB 28.6MB/s \n",
            "\u001b[?25hRequirement already satisfied: filelock in /usr/local/lib/python3.6/dist-packages (from transformers) (3.0.12)\n",
            "Requirement already satisfied: botocore<1.16.0,>=1.15.26 in /usr/local/lib/python3.6/dist-packages (from boto3->transformers) (1.15.26)\n",
            "Requirement already satisfied: jmespath<1.0.0,>=0.7.1 in /usr/local/lib/python3.6/dist-packages (from boto3->transformers) (0.9.5)\n",
            "Requirement already satisfied: s3transfer<0.4.0,>=0.3.0 in /usr/local/lib/python3.6/dist-packages (from boto3->transformers) (0.3.3)\n",
            "Requirement already satisfied: idna<2.9,>=2.5 in /usr/local/lib/python3.6/dist-packages (from requests->transformers) (2.8)\n",
            "Requirement already satisfied: chardet<3.1.0,>=3.0.2 in /usr/local/lib/python3.6/dist-packages (from requests->transformers) (3.0.4)\n",
            "Requirement already satisfied: urllib3<1.25,>=1.21.1 in /usr/local/lib/python3.6/dist-packages (from requests->transformers) (1.24.3)\n",
            "Requirement already satisfied: certifi>=2017.4.17 in /usr/local/lib/python3.6/dist-packages (from requests->transformers) (2019.11.28)\n",
            "Requirement already satisfied: six in /usr/local/lib/python3.6/dist-packages (from sacremoses->transformers) (1.12.0)\n",
            "Requirement already satisfied: click in /usr/local/lib/python3.6/dist-packages (from sacremoses->transformers) (7.1.1)\n",
            "Requirement already satisfied: joblib in /usr/local/lib/python3.6/dist-packages (from sacremoses->transformers) (0.14.1)\n",
            "Requirement already satisfied: python-dateutil<3.0.0,>=2.1 in /usr/local/lib/python3.6/dist-packages (from botocore<1.16.0,>=1.15.26->boto3->transformers) (2.8.1)\n",
            "Requirement already satisfied: docutils<0.16,>=0.10 in /usr/local/lib/python3.6/dist-packages (from botocore<1.16.0,>=1.15.26->boto3->transformers) (0.15.2)\n",
            "Building wheels for collected packages: sacremoses\n",
            "  Building wheel for sacremoses (setup.py) ... \u001b[?25l\u001b[?25hdone\n",
            "  Created wheel for sacremoses: filename=sacremoses-0.0.38-cp36-none-any.whl size=884628 sha256=600d7b0527e6a003590671dc60948046eab42af6f7d2642bf461f3fd909991d9\n",
            "  Stored in directory: /root/.cache/pip/wheels/6d/ec/1a/21b8912e35e02741306f35f66c785f3afe94de754a0eaf1422\n",
            "Successfully built sacremoses\n",
            "Installing collected packages: sacremoses, tokenizers, sentencepiece, transformers\n",
            "Successfully installed sacremoses-0.0.38 sentencepiece-0.1.85 tokenizers-0.5.2 transformers-2.6.0\n"
          ],
          "name": "stdout"
        }
      ]
    },
    {
      "cell_type": "code",
      "metadata": {
        "id": "b9F7N7DGNGdF",
        "colab_type": "code",
        "colab": {
          "base_uri": "https://localhost:8080/",
          "height": 50
        },
        "outputId": "9ddc0a5f-a3ed-4e1b-dd05-bca5ce826eec"
      },
      "source": [
        "import numpy as np\n",
        "import pandas as pd\n",
        "import nltk\n",
        "nltk.download('punkt')\n",
        "from nltk import sent_tokenize\n",
        "%tensorflow_version 1.x\n",
        "from keras.preprocessing.sequence import pad_sequences\n",
        "\n",
        "from scipy.spatial.distance import pdist,squareform\n",
        "from sklearn.decomposition import PCA\n",
        "\n",
        "import torch\n",
        "import transformers as ppb\n",
        "import matplotlib.pyplot as plt\n",
        "import seaborn as sns\n",
        "import warnings\n",
        "warnings.filterwarnings('ignore')"
      ],
      "execution_count": null,
      "outputs": [
        {
          "output_type": "stream",
          "text": [
            "[nltk_data] Downloading package punkt to /root/nltk_data...\n",
            "[nltk_data]   Package punkt is already up-to-date!\n"
          ],
          "name": "stdout"
        }
      ]
    },
    {
      "cell_type": "markdown",
      "metadata": {
        "id": "f2HpiJ6pS9b1",
        "colab_type": "text"
      },
      "source": [
        "## 2.2 pre-trained Model\n",
        "\n",
        "We will be using distilbert (which is a smaller version of BERT). It is 40% smaller in size, has 97% capability of base BERT, abd 60% faster.\n",
        "The version we use is 'uncased' meaning the tokens are all lower-cases. "
      ]
    },
    {
      "cell_type": "code",
      "metadata": {
        "id": "346ecnmYS09M",
        "colab_type": "code",
        "colab": {
          "base_uri": "https://localhost:8080/",
          "height": 163,
          "referenced_widgets": [
            "a6de2e872369440ebe1f5130cf50016c",
            "c4c5f9e984254c39a14ee2ac310b821d",
            "7f561b4af6044174bc2d82737f48eef9",
            "d683d0425c614a22abb9f3a5c48f22a2",
            "7c1700bdda4d4a9aaa4722b75504bf0d",
            "f41fe2516bd84b698457725d582ca026",
            "79030bf413bf4a2f881e51df653f22d4",
            "0386c9c4bdde41ab9018f7c513199026",
            "38ad6d39c18c4127a523b52223675823",
            "69b2368f1ace44fca7fb7ef103d69551",
            "f1b97accef7540e6b9c464ae3a612196",
            "7a780ae609ed4e489b1e83b44358a041",
            "d82ba37db2ce47c7b5343b515b42c13a",
            "92fd89b5578247d6a0626f3591d8fe64",
            "130c4a9362de4d719ffb5fc95289440d",
            "cb8ff1734e0746e899f106870a4af26a",
            "4c6d4c8894ce432db1ca8f2043a37b31",
            "f85d4a77e70047f7843a04a878c2e138",
            "ef2a5596607a4d468daa138618fade62",
            "6962514aa37c407c84622aac819bea4e",
            "bde72e5fbd34469c82a98f2776b76b0f",
            "c2414869918d43da943c58f7315cfb3e",
            "6508aff3a2e24cf2b9b1bb9d0eb9a5ce",
            "1bf2bf59828e44a8afd13ee1ca11f52b"
          ]
        },
        "outputId": "c497de15-9c00-4da8-b1db-4ff0ca288e0c"
      },
      "source": [
        "model_class, tokenizer_class, pretrained_weights = (ppb.DistilBertModel, ppb.DistilBertTokenizer, 'distilbert-base-uncased')\n",
        "\n",
        "## Want BERT instead of distilBERT? Uncomment the following line:\n",
        "#model_class, tokenizer_class, pretrained_weights = (ppb.BertModel, ppb.BertTokenizer, 'bert-base-uncased')\n",
        "\n",
        "# Load pretrained model/tokenizer\n",
        "tokenizer = tokenizer_class.from_pretrained(pretrained_weights)\n",
        "model = model_class.from_pretrained(pretrained_weights)"
      ],
      "execution_count": null,
      "outputs": [
        {
          "output_type": "display_data",
          "data": {
            "application/vnd.jupyter.widget-view+json": {
              "model_id": "a6de2e872369440ebe1f5130cf50016c",
              "version_minor": 0,
              "version_major": 2
            },
            "text/plain": [
              "HBox(children=(IntProgress(value=0, description='Downloading', max=231508, style=ProgressStyle(description_wid…"
            ]
          },
          "metadata": {
            "tags": []
          }
        },
        {
          "output_type": "stream",
          "text": [
            "\n"
          ],
          "name": "stdout"
        },
        {
          "output_type": "display_data",
          "data": {
            "application/vnd.jupyter.widget-view+json": {
              "model_id": "38ad6d39c18c4127a523b52223675823",
              "version_minor": 0,
              "version_major": 2
            },
            "text/plain": [
              "HBox(children=(IntProgress(value=0, description='Downloading', max=546, style=ProgressStyle(description_width=…"
            ]
          },
          "metadata": {
            "tags": []
          }
        },
        {
          "output_type": "stream",
          "text": [
            "\n"
          ],
          "name": "stdout"
        },
        {
          "output_type": "display_data",
          "data": {
            "application/vnd.jupyter.widget-view+json": {
              "model_id": "4c6d4c8894ce432db1ca8f2043a37b31",
              "version_minor": 0,
              "version_major": 2
            },
            "text/plain": [
              "HBox(children=(IntProgress(value=0, description='Downloading', max=267967963, style=ProgressStyle(description_…"
            ]
          },
          "metadata": {
            "tags": []
          }
        },
        {
          "output_type": "stream",
          "text": [
            "\n"
          ],
          "name": "stdout"
        }
      ]
    },
    {
      "cell_type": "markdown",
      "metadata": {
        "id": "cvPa_QNi9YTf",
        "colab_type": "text"
      },
      "source": [
        "# 3. Data preprocessing\n",
        "\n",
        "The task consists of\n",
        "\n",
        "1. split paragraphs into sentence (if hasn't been done already).\n",
        "\n",
        "2. tokenize the words in sentences to a list of numeric; add the special tokens for start and end.\n",
        "\n",
        "3. truncating or padding.\n",
        "\n",
        "4. Create attention masks that tell the BERT model which parts are padding and which are words."
      ]
    },
    {
      "cell_type": "markdown",
      "metadata": {
        "id": "KJ0I6K9qQV_T",
        "colab_type": "text"
      },
      "source": [
        "## 3.1 Paragraph spliting\n",
        "\n",
        "I take two random paragraphs from wikipedia and put them together. One is about Covid-19 coronavirus, and the other one is about Glen Campbell, American country singer."
      ]
    },
    {
      "cell_type": "code",
      "metadata": {
        "id": "m2mh_6iCQUOI",
        "colab_type": "code",
        "colab": {}
      },
      "source": [
        "paragraph =\"\"\"The 2019–20 coronavirus pandemic is an ongoing pandemic of coronavirus disease 2019 (COVID-19), caused by severe acute respiratory syndrome coronavirus 2 (SARS-CoV-2).[4] The outbreak was first identified in Wuhan, Hubei, China, in December 2019, and was recognized as a pandemic by the World Health Organization (WHO) on 11 March 2020.[5] As of 25 March, more than 422,000 cases of COVID-19 have been reported in more than 190 countries and territories, resulting in more than 18,900 deaths and more than 109,000 recoveries.[2][3]\n",
        "The virus is typically spread during close contact and via respiratory droplets produced when people cough or sneeze.[6][7] Respiratory droplets may be produced during breathing but it is not considered airborne.[6] It may also spread when one touches a contaminated surface and then their face.[6][7] It is most contagious when people are symptomatic, although spread may be possible before symptoms appear.[7] The time between exposure and symptom onset is typically around five days, but may range from two to fourteen days.[8][9] Common symptoms include fever, cough, and shortness of breath.[8] Complications may include pneumonia and acute respiratory distress syndrome.[10] There is no known vaccine or specific antiviral treatment.[6] Primary treatment is symptomatic and supportive therapy.[11] Recommended preventive measures include hand washing, covering the mouth when coughing, maintaining distance from other people, and monitoring and self-isolation for people who suspect they are infected.[6]\n",
        "Efforts to prevent the virus spreading include travel restrictions, quarantines, curfews, event postponements and cancellations, and facility closures. These include a quarantine of Hubei, nationwide quarantines in Italy and elsewhere in Europe, nationwide lockdown in India, curfew measures elsewhere in China and South Korea,[12][13][14] various border closures or incoming passenger restrictions,[15][16] screening at airports and train stations,[17] and travel advisories regarding regions with community transmission.[18][19][20][21] Schools and universities have closed either on a nationwide or local basis in more than 124 countries, affecting more than 1.2 billion students.[22]\n",
        "The pandemic has led to global socioeconomic disruption,[23] the postponement or cancellation of sporting, religious, and cultural events,[24] and widespread fears of supply shortages which have spurred panic buying.[25][26] Misinformation and conspiracy theories about the virus have spread online,[27][28] and there have been incidents of xenophobia and racism against Chinese and other East or Southeast Asian people.[29]\n",
        "Glen Travis Campbell (April 22, 1936 – August 8, 2017) was an American singer, guitarist, songwriter, television host, and actor. He was best known for a series of hit songs in the 1960s and 1970s, and for hosting a music and comedy variety show called The Glen Campbell Goodtime Hour on CBS television, from January 1969 until June 1972.[1] He released 64 albums in a career that spanned five decades, selling over 45 million records worldwide, including twelve gold albums, four platinum albums, and one double-platinum album.\n",
        "Born in Billstown, Arkansas, Campbell began his professional career as a studio musician in Los Angeles, spending several years playing with the group of instrumentalists later known as \"The Wrecking Crew\". After becoming a solo artist, he placed a total of 80 different songs on either the Billboard Country Chart, Billboard Hot 100, or Adult Contemporary Chart, of which 29 made the top 10 and of which nine reached number one on at least one of those charts. Among Campbell's hits are \"Universal Soldier\", his first hit from 1965, along with \"Gentle on My Mind\" (1967), \"By the Time I Get to Phoenix\" (1967), \"Dreams of the Everyday Housewife\" (1968), \"Wichita Lineman\" (1968), \"Galveston\" (1969), \"Rhinestone Cowboy\" (1975) and \"Southern Nights\" (1977).[2]\n",
        "In 1967, Campbell won four Grammys in the country and pop categories. For \"Gentle on My Mind\", he received two awards in country and western; \"By the Time I Get to Phoenix\" did the same in pop. Three of his early hits later won Grammy Hall of Fame Awards (2000, 2004, 2008), while Campbell himself won the Grammy Lifetime Achievement Award in 2012. He owned trophies for Male Vocalist of the Year from both the Country Music Association (CMA) and the Academy of Country Music (ACM), and took the CMA's top award as 1968 Entertainer of the Year. Campbell played a supporting role in the film True Grit (1969), which earned him a Golden Globe nomination for Most Promising Newcomer. He also sang the title song, which was nominated for an Academy Award.\n",
        "\"\"\""
      ],
      "execution_count": null,
      "outputs": []
    },
    {
      "cell_type": "code",
      "metadata": {
        "id": "rqCDnDWqRnAs",
        "colab_type": "code",
        "colab": {}
      },
      "source": [
        "paragraph_split = sent_tokenize(paragraph) # split the paragraph"
      ],
      "execution_count": null,
      "outputs": []
    },
    {
      "cell_type": "code",
      "metadata": {
        "id": "ib-JgZ50RpmV",
        "colab_type": "code",
        "colab": {
          "base_uri": "https://localhost:8080/",
          "height": 33
        },
        "outputId": "0eac8e4b-c8ca-4860-bfdc-a4b555bf5ae5"
      },
      "source": [
        "len(paragraph_split)"
      ],
      "execution_count": null,
      "outputs": [
        {
          "output_type": "execute_result",
          "data": {
            "text/plain": [
              "30"
            ]
          },
          "metadata": {
            "tags": []
          },
          "execution_count": 8
        }
      ]
    },
    {
      "cell_type": "markdown",
      "metadata": {
        "id": "UqvhcFAI9Ydn",
        "colab_type": "text"
      },
      "source": [
        "## 3.2 Tokenization\n",
        "\n",
        "Note the start token [CLS] is always denoted numerically as [101] and the end token [SEP] is always [102]."
      ]
    },
    {
      "cell_type": "code",
      "metadata": {
        "id": "4b0ffe54R07_",
        "colab_type": "code",
        "colab": {}
      },
      "source": [
        "input_tokens = []\n",
        "for i in paragraph_split:\n",
        "  input_tokens.append(tokenizer.encode(i, add_special_tokens=True))"
      ],
      "execution_count": null,
      "outputs": []
    },
    {
      "cell_type": "code",
      "metadata": {
        "id": "lQ4x96ArSq8k",
        "colab_type": "code",
        "colab": {
          "base_uri": "https://localhost:8080/",
          "height": 33
        },
        "outputId": "23a72d80-2432-47ca-c03a-b8f4dba24860"
      },
      "source": [
        "temp = []\n",
        "for i in input_tokens:\n",
        "  #print(len(i))\n",
        "  temp.append(len(i))\n",
        "np.max(temp)  # the longest sentence in our paragraph has 88 tokens. "
      ],
      "execution_count": null,
      "outputs": [
        {
          "output_type": "execute_result",
          "data": {
            "text/plain": [
              "88"
            ]
          },
          "metadata": {
            "tags": []
          },
          "execution_count": 12
        }
      ]
    },
    {
      "cell_type": "markdown",
      "metadata": {
        "id": "mZrAvphLUCjq",
        "colab_type": "text"
      },
      "source": [
        "Recap, so far we are about this step.\n",
        "\n",
        "<img src=\"https://jalammar.github.io/images/distilBERT/bert-distilbert-tokenization-2-token-ids.png\" />"
      ]
    },
    {
      "cell_type": "markdown",
      "metadata": {
        "id": "LF_xqD0cUOit",
        "colab_type": "text"
      },
      "source": [
        "## 3.3 Truncating and padding\n",
        "\n",
        "The BERT model has input dimension of 512 in size. So if our sentence has more than 512 tokens, we have to truncate it somehow. In our case the max token length = 88, so this won't be necessary. \n",
        "\n",
        "Also, because the sentences have different lengths, we will pad the shorter ones with [PAD] which is numerically [0]."
      ]
    },
    {
      "cell_type": "code",
      "metadata": {
        "id": "DodMuc3PWa_S",
        "colab_type": "code",
        "colab": {}
      },
      "source": [
        "input_ids = pad_sequences(input_tokens, maxlen=100, dtype=\"long\", value=0, truncating=\"post\", padding=\"post\")"
      ],
      "execution_count": null,
      "outputs": []
    },
    {
      "cell_type": "markdown",
      "metadata": {
        "id": "tNvezhZ1Wj4g",
        "colab_type": "text"
      },
      "source": [
        "## 3.4 Attention Mask\n",
        "\n",
        "This is a embedding layer of values [0] or [1]. The purpose is to tell the model to ignore the padding."
      ]
    },
    {
      "cell_type": "code",
      "metadata": {
        "id": "pGujN-TbT0EO",
        "colab_type": "code",
        "colab": {}
      },
      "source": [
        "def create_attention_mask(input_id):\n",
        "  attention_masks = []\n",
        "  for sent in input_ids:\n",
        "    att_mask = [int(token_id > 0) for token_id in sent]  # create a list of 0 and 1.\n",
        "    attention_masks.append(att_mask)  # basically attention_masks is a list of list\n",
        "  return attention_masks"
      ],
      "execution_count": null,
      "outputs": []
    },
    {
      "cell_type": "code",
      "metadata": {
        "id": "sTl4PXfxZEJH",
        "colab_type": "code",
        "colab": {}
      },
      "source": [
        "input_masks = create_attention_mask(input_ids)"
      ],
      "execution_count": null,
      "outputs": []
    },
    {
      "cell_type": "markdown",
      "metadata": {
        "id": "G8DPpHE-aPNt",
        "colab_type": "text"
      },
      "source": [
        "After this is done, then we can turn our data to torch tensor object."
      ]
    },
    {
      "cell_type": "code",
      "metadata": {
        "id": "CwwYDBJCaIc5",
        "colab_type": "code",
        "colab": {}
      },
      "source": [
        "input_ids = torch.tensor(input_ids)  \n",
        "attention_mask = torch.tensor(input_masks)"
      ],
      "execution_count": null,
      "outputs": []
    },
    {
      "cell_type": "markdown",
      "metadata": {
        "id": "0SeQM2k7Zjwv",
        "colab_type": "text"
      },
      "source": [
        "# 4. Embedding\n",
        "\n",
        "Notice that 768 is the hidden layer dimensions of the model. The model has 6 transformer layer blocks (the base-bert has 12 layers). The output has dimensions of 768 in size."
      ]
    },
    {
      "cell_type": "code",
      "metadata": {
        "id": "qzTIH0XiaDTx",
        "colab_type": "code",
        "colab": {
          "base_uri": "https://localhost:8080/",
          "height": 602
        },
        "outputId": "7c4c5574-abb7-4cea-f730-c4ae7e49cc10"
      },
      "source": [
        "# Get all of the model's parameters as a list of tuples.\n",
        "params = list(model.named_parameters())\n",
        "\n",
        "print('The BERT model has {:} different named parameters.\\n'.format(len(params)))\n",
        "\n",
        "print('==== Embedding Layer ====\\n')\n",
        "\n",
        "for p in params[0:5]:\n",
        "    print(\"{:<55} {:>12}\".format(p[0], str(tuple(p[1].size()))))\n",
        "\n",
        "print('\\n==== First Transformer ====\\n')\n",
        "\n",
        "for p in params[5:21]:\n",
        "    print(\"{:<55} {:>12}\".format(p[0], str(tuple(p[1].size()))))\n",
        "\n",
        "print('\\n==== Output Layer ====\\n')\n",
        "\n",
        "for p in params[-4:]:\n",
        "    print(\"{:<55} {:>12}\".format(p[0], str(tuple(p[1].size()))))"
      ],
      "execution_count": null,
      "outputs": [
        {
          "output_type": "stream",
          "text": [
            "The BERT model has 100 different named parameters.\n",
            "\n",
            "==== Embedding Layer ====\n",
            "\n",
            "embeddings.word_embeddings.weight                       (30522, 768)\n",
            "embeddings.position_embeddings.weight                     (512, 768)\n",
            "embeddings.LayerNorm.weight                                   (768,)\n",
            "embeddings.LayerNorm.bias                                     (768,)\n",
            "transformer.layer.0.attention.q_lin.weight                (768, 768)\n",
            "\n",
            "==== First Transformer ====\n",
            "\n",
            "transformer.layer.0.attention.q_lin.bias                      (768,)\n",
            "transformer.layer.0.attention.k_lin.weight                (768, 768)\n",
            "transformer.layer.0.attention.k_lin.bias                      (768,)\n",
            "transformer.layer.0.attention.v_lin.weight                (768, 768)\n",
            "transformer.layer.0.attention.v_lin.bias                      (768,)\n",
            "transformer.layer.0.attention.out_lin.weight              (768, 768)\n",
            "transformer.layer.0.attention.out_lin.bias                    (768,)\n",
            "transformer.layer.0.sa_layer_norm.weight                      (768,)\n",
            "transformer.layer.0.sa_layer_norm.bias                        (768,)\n",
            "transformer.layer.0.ffn.lin1.weight                      (3072, 768)\n",
            "transformer.layer.0.ffn.lin1.bias                            (3072,)\n",
            "transformer.layer.0.ffn.lin2.weight                      (768, 3072)\n",
            "transformer.layer.0.ffn.lin2.bias                             (768,)\n",
            "transformer.layer.0.output_layer_norm.weight                  (768,)\n",
            "transformer.layer.0.output_layer_norm.bias                    (768,)\n",
            "transformer.layer.1.attention.q_lin.weight                (768, 768)\n",
            "\n",
            "==== Output Layer ====\n",
            "\n",
            "transformer.layer.5.ffn.lin2.weight                      (768, 3072)\n",
            "transformer.layer.5.ffn.lin2.bias                             (768,)\n",
            "transformer.layer.5.output_layer_norm.weight                  (768,)\n",
            "transformer.layer.5.output_layer_norm.bias                    (768,)\n"
          ],
          "name": "stdout"
        }
      ]
    },
    {
      "cell_type": "code",
      "metadata": {
        "id": "bpTmWGDrbe3L",
        "colab_type": "code",
        "colab": {}
      },
      "source": [
        "with torch.no_grad():\n",
        "    last_hidden_states = model(input_ids, attention_mask=attention_mask)"
      ],
      "execution_count": null,
      "outputs": []
    },
    {
      "cell_type": "markdown",
      "metadata": {
        "id": "9ORaFhXHb0rF",
        "colab_type": "text"
      },
      "source": [
        "Recall earlier that we has something to say about the [CLS] tokens used for start sentence embedding. So after you pass through the BERT model, this becomes the tensor position [0] and has hidden dimensions of 768. \n",
        "\n",
        "The BERT uses this token to sepresent sentence information. In other words, the semantic information of the whole sentence should be embedded in this 768 feature dimension. In fact, the BERT sentence classification only use this dimension of the tensor for subsequent classification task.\n",
        "\n",
        "<img src=\"https://jalammar.github.io/images/distilBERT/bert-output-tensor-selection.png\" />"
      ]
    },
    {
      "cell_type": "code",
      "metadata": {
        "id": "1Kw2DjpYbtxy",
        "colab_type": "code",
        "colab": {}
      },
      "source": [
        "sentence_features = last_hidden_states[0][:,0,:].detach().numpy()"
      ],
      "execution_count": null,
      "outputs": []
    },
    {
      "cell_type": "code",
      "metadata": {
        "id": "ozMJlunXdaIC",
        "colab_type": "code",
        "colab": {
          "base_uri": "https://localhost:8080/",
          "height": 33
        },
        "outputId": "5d4e430d-d612-4d39-8411-dba0c4684451"
      },
      "source": [
        "sentence_features.shape  \n",
        "# get the embedding sentence data shape = (number of sentence, BERT hidden layer)"
      ],
      "execution_count": null,
      "outputs": [
        {
          "output_type": "execute_result",
          "data": {
            "text/plain": [
              "(30, 768)"
            ]
          },
          "metadata": {
            "tags": []
          },
          "execution_count": 24
        }
      ]
    },
    {
      "cell_type": "markdown",
      "metadata": {
        "id": "6EsnTnfwdupS",
        "colab_type": "text"
      },
      "source": [
        "# 5. Machine Learning\n",
        "\n",
        "We then can use the traditional machine learning tool, such as nearest-beighbors or clustering, to select relevant sentences."
      ]
    },
    {
      "cell_type": "markdown",
      "metadata": {
        "id": "Baw4m7_8gIW7",
        "colab_type": "text"
      },
      "source": [
        "## 5.1 Visualization"
      ]
    },
    {
      "cell_type": "code",
      "metadata": {
        "id": "B96EflyNdHbZ",
        "colab_type": "code",
        "colab": {}
      },
      "source": [
        "array_similarity = squareform(pdist(sentence_features, metric='euclidean'))"
      ],
      "execution_count": null,
      "outputs": []
    },
    {
      "cell_type": "markdown",
      "metadata": {
        "id": "NhvKRVj3eoRN",
        "colab_type": "text"
      },
      "source": [
        "We use euclidean distance to measure how close in semantic space are the sentences in our paragraph. \n",
        "\n",
        "Notice that we see clearly **2 clusters**. This is because our original paragraphs are about coronavirus (sentence 0-18) and about Glen Campbell (sentence 19-28)"
      ]
    },
    {
      "cell_type": "code",
      "metadata": {
        "id": "4fEnaiwzeBuJ",
        "colab_type": "code",
        "colab": {
          "base_uri": "https://localhost:8080/",
          "height": 297
        },
        "outputId": "5cd8d927-ef5f-4114-edb0-3c8084117eb5"
      },
      "source": [
        "sns.heatmap(array_similarity)\n",
        "plt.title('visualizing sentence semantic similarity')"
      ],
      "execution_count": null,
      "outputs": [
        {
          "output_type": "execute_result",
          "data": {
            "text/plain": [
              "Text(0.5, 1.0, 'visualizing sentence semantic similarity')"
            ]
          },
          "metadata": {
            "tags": []
          },
          "execution_count": 27
        },
        {
          "output_type": "display_data",
          "data": {
            "image/png": "[encoded data removed]",
            "text/plain": [
              "<Figure size 432x288 with 2 Axes>"
            ]
          },
          "metadata": {
            "tags": []
          }
        }
      ]
    },
    {
      "cell_type": "code",
      "metadata": {
        "id": "TMv7U8cWeF1v",
        "colab_type": "code",
        "colab": {
          "base_uri": "https://localhost:8080/",
          "height": 33
        },
        "outputId": "75a06845-236e-4540-dda2-f5df3c33e3da"
      },
      "source": [
        "pca = PCA(n_components=2)\n",
        "pca.fit(sentence_features)\n",
        "print(np.sum(pca.explained_variance_ratio_))"
      ],
      "execution_count": null,
      "outputs": [
        {
          "output_type": "stream",
          "text": [
            "0.5117953\n"
          ],
          "name": "stdout"
        }
      ]
    },
    {
      "cell_type": "code",
      "metadata": {
        "id": "3dJqnERseEIj",
        "colab_type": "code",
        "colab": {}
      },
      "source": [
        "pca_sentence_features = pca.transform(sentence_features)"
      ],
      "execution_count": null,
      "outputs": []
    },
    {
      "cell_type": "code",
      "metadata": {
        "id": "5NiljyFJfRo0",
        "colab_type": "code",
        "colab": {
          "base_uri": "https://localhost:8080/",
          "height": 624
        },
        "outputId": "e4a37ec6-c066-4a56-829b-74e76de251ae"
      },
      "source": [
        "plt.figure(figsize=(10,10))\n",
        "for i in range(len(pca_sentence_features)):\n",
        "  plt.scatter(pca_sentence_features[i,0],pca_sentence_features[i,1])\n",
        "  plt.annotate('sentence '+ str(i),(pca_sentence_features[i,0],pca_sentence_features[i,1]))\n",
        "plt.title('2D PCA projection of embedded sentences from BERT')"
      ],
      "execution_count": null,
      "outputs": [
        {
          "output_type": "execute_result",
          "data": {
            "text/plain": [
              "Text(0.5, 1.0, '2D PCA projection of embedded sentences from BERT')"
            ]
          },
          "metadata": {
            "tags": []
          },
          "execution_count": 35
        },
        {
          "output_type": "display_data",
          "data": {
            "image/png": "[encoded data removed]",
            "text/plain": [
              "<Figure size 720x720 with 1 Axes>"
            ]
          },
          "metadata": {
            "tags": []
          }
        }
      ]
    },
    {
      "cell_type": "markdown",
      "metadata": {
        "id": "FDImW-tBgMqQ",
        "colab_type": "text"
      },
      "source": [
        "## 5.2 extracting relevant sentences\n",
        "\n",
        "We now have many avenues to choose how to pick particular the sentences."
      ]
    },
    {
      "cell_type": "code",
      "metadata": {
        "id": "orUGtuo7fiEs",
        "colab_type": "code",
        "colab": {}
      },
      "source": [
        ""
      ],
      "execution_count": null,
      "outputs": []
    },
    {
      "cell_type": "markdown",
      "metadata": {
        "id": "40gdiYNIOifY",
        "colab_type": "text"
      },
      "source": [
        "# Citation\n",
        "\n",
        "- [visual notebook for first time users](http://jalammar.github.io/a-visual-guide-to-using-bert-for-the-first-time/)\n",
        "\n",
        "Part of my codes and illustrations are adapted from this very easy-to-understand notebook.\n",
        "\n",
        "- [BERT Explained](https://towardsdatascience.com/bert-explained-state-of-the-art-language-model-for-nlp-f8b21a9b6270)\n",
        "\n",
        "This blog post explains BERT very clearly. It helps me a lot when I write the introduction.\n",
        "\n",
        "- [Fine-tuning BERT classification with PyTorch](https://mccormickml.com/2019/07/22/BERT-fine-tuning/)\n",
        "\n",
        "I really like this blog post and its colab notebook. Especially the explanation about tokenization, and data formatting, which can be confusing for first-time users.\n",
        "\n",
        "- [The original BERT paper](https://arxiv.org/pdf/1810.04805.pdf)\n",
        "\n",
        "- [The DiltilBERT paper](https://arxiv.org/pdf/1910.01108.pdf)\n",
        "\n",
        "- [Huggingface library](https://github.com/huggingface/transformers)"
      ]
    }
  ]
}